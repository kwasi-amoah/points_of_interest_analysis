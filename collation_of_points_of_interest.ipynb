{
 "cells": [
  {
   "cell_type": "code",
   "execution_count": 1,
   "id": "137e2c97-1b86-4a8a-b677-9a31705d7ac7",
   "metadata": {},
   "outputs": [
    {
     "name": "stdout",
     "output_type": "stream",
     "text": [
      "Bounding box: ['5.5171908', '5.6673682', '-0.2841318', '-0.0548565']\n"
     ]
    }
   ],
   "source": [
    "from geopy.geocoders import Nominatim\n",
    "\n",
    "geolocator = Nominatim(user_agent=\"geoapi\")\n",
    "location = geolocator.geocode(\"Accra, Ghana\", exactly_one=True)\n",
    "\n",
    "# Bounding box information\n",
    "print(\"Bounding box:\", location.raw['boundingbox'])\n"
   ]
  },
  {
   "cell_type": "code",
   "execution_count": 6,
   "id": "e9d78985-62f9-4107-9aaf-c806189438e4",
   "metadata": {},
   "outputs": [
    {
     "name": "stdout",
     "output_type": "stream",
     "text": [
      "Data saved to accra_pois_with_popularity.xlsx successfully!\n"
     ]
    }
   ],
   "source": [
    "import googlemaps\n",
    "import requests\n",
    "import pandas as pd\n",
    "\n",
    "# Replace with your actual Google Maps API key\n",
    "gmaps = googlemaps.Client(key='YOUR KEY')\n",
    "\n",
    "# Defining Overpass API query for POIs in Accra\n",
    "query = \"\"\"\n",
    "[out:json];\n",
    "(\n",
    "  node[\"amenity\"~\"bank|market|fuel_station|school|church|restaurant|hotel|bistro|hospital|clinic|stadium|beach|airport|museum|club|pub|bar|cafe|pharmacy|mosque\"](5.530,-0.30,6.030,0.200);\n",
    "  way[\"amenity\"~\"bank|market|fuel_station|school|church|restaurant|hotel|bistro|hospital|clinic|stadium|beach|airport|museum|club|pub|bar|cafe|pharmacy|mosque\"](5.530,-0.30,6.030,0.200);\n",
    "  relation[\"amenity\"~\"bank|market|fuel_station|school|church|restaurant|hotel|bistro|hospital|clinic|stadium|beach|airport|museum|club|pub|bar|cafe|pharmacy|mosque\"](5.530,-0.30,6.030,0.200);\n",
    ");\n",
    "out body;\n",
    "\"\"\"\n",
    "\n",
    "\n",
    "# Getting data from Overpass API\n",
    "response = requests.get(\"https://overpass-api.de/api/interpreter\", params={'data': query})\n",
    "\n",
    "if response.status_code == 200:\n",
    "    data = response.json()\n",
    "    pois = []\n",
    "\n",
    "    for element in data.get('elements', []):\n",
    "        # Default values\n",
    "        latitude = None\n",
    "        longitude = None\n",
    "\n",
    "        # Handle nodes\n",
    "        if element['type'] == 'node':\n",
    "            latitude = element['lat']\n",
    "            longitude = element['lon']\n",
    "\n",
    "        # Handle ways and relations\n",
    "        name = element.get('tags', {}).get('name', 'Unnamed')\n",
    "        amenity = element.get('tags', {}).get('amenity', 'Unknown')\n",
    "\n",
    "        # Initialize popularity\n",
    "        popularity = \"No Data\"\n",
    "\n",
    "        # Use Google Maps API for nodes with coordinates\n",
    "        if latitude is not None and longitude is not None:\n",
    "            geocode_result = gmaps.reverse_geocode((latitude, longitude))\n",
    "            if geocode_result:\n",
    "                place_id = geocode_result[0]['place_id']\n",
    "\n",
    "                # Get popularity and reviews data for the POI\n",
    "                place_details = gmaps.place(place_id=place_id)\n",
    "                popularity = place_details.get(\"result\", {}).get(\"user_ratings_total\", \"No Data\")\n",
    "\n",
    "        # Appending to the list\n",
    "        pois.append({\n",
    "            'Type': element['type'].capitalize(),\n",
    "            'Latitude': latitude if latitude is not None else \"N/A\",\n",
    "            'Longitude': longitude if longitude is not None else \"N/A\",\n",
    "            'Name': name,\n",
    "            'Amenity': amenity,\n",
    "            'Popularity': popularity,\n",
    "        })\n",
    "\n",
    "    # Creating a DataFrame\n",
    "    pois_df = pd.DataFrame(pois)\n",
    "\n",
    "    # Saving the DataFrame to an Excel file\n",
    "    pois_df.to_excel(\"accra_pois_with_popularity1.xlsx\", index=False)\n",
    "    print(\"Data saved to accra_pois_with_popularity.xlsx successfully!\")\n",
    "else:\n",
    "    print(f\"Error: Unable to fetch data. Status code: {response.status_code}\")"
   ]
  }
 ],
 "metadata": {
  "kernelspec": {
   "display_name": "Python 3 (ipykernel)",
   "language": "python",
   "name": "python3"
  },
  "language_info": {
   "codemirror_mode": {
    "name": "ipython",
    "version": 3
   },
   "file_extension": ".py",
   "mimetype": "text/x-python",
   "name": "python",
   "nbconvert_exporter": "python",
   "pygments_lexer": "ipython3",
   "version": "3.11.7"
  }
 },
 "nbformat": 4,
 "nbformat_minor": 5
}
