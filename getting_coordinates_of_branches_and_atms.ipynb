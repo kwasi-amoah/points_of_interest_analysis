{
 "cells": [
  {
   "cell_type": "code",
   "execution_count": 5,
   "id": "4b10da03-ddcc-47b1-b774-7a730eb4b60f",
   "metadata": {},
   "outputs": [
    {
     "name": "stdout",
     "output_type": "stream",
     "text": [
      "Requirement already satisfied: geopy in c:\\users\\user\\.conda\\envs\\creating_an_environment\\lib\\site-packages (2.4.1)\n",
      "Requirement already satisfied: geographiclib<3,>=1.52 in c:\\users\\user\\.conda\\envs\\creating_an_environment\\lib\\site-packages (from geopy) (2.0)\n",
      "Latitudes and longitudes added!\n"
     ]
    }
   ],
   "source": [
    "!pip install geopy\n",
    "import pandas as pd\n",
    "from geopy.geocoders import Nominatim\n",
    "from geopy.exc import GeocoderTimedOut\n",
    "\n",
    "# Loading data\n",
    "data = pd.read_excel(\"C:/Users/User/Desktop/stanbic/competitor analysis/BRANCH LATITUDES.xlsx\")\n",
    "\n",
    "# Initialize geocoder\n",
    "geolocator = Nominatim(user_agent=\"bank_locator\")\n",
    "\n",
    "# Function to get coordinates\n",
    "def get_coordinates(address):\n",
    "    try:\n",
    "        location = geolocator.geocode(address, timeout=10)\n",
    "        if location:\n",
    "            return location.latitude, location.longitude\n",
    "        else:\n",
    "            return None, None\n",
    "    except GeocoderTimedOut:\n",
    "        return None, None\n",
    "\n",
    "# Apply function to the address column\n",
    "data['Latitude'], data['Longitude'] = zip(*data['Location'].apply(get_coordinates))\n",
    "\n",
    "# Save the results to a new file\n",
    "data.to_csv('bank_locations_with_coords1_rest.csv', index=False)\n",
    "\n",
    "print(\"Latitudes and longitudes added!\")\n"
   ]
  },
  {
   "cell_type": "code",
   "execution_count": null,
   "id": "db1c2250-2a79-4886-b1cc-47c54c5ee19a",
   "metadata": {},
   "outputs": [],
   "source": []
  }
 ],
 "metadata": {
  "kernelspec": {
   "display_name": "Python 3 (ipykernel)",
   "language": "python",
   "name": "python3"
  },
  "language_info": {
   "codemirror_mode": {
    "name": "ipython",
    "version": 3
   },
   "file_extension": ".py",
   "mimetype": "text/x-python",
   "name": "python",
   "nbconvert_exporter": "python",
   "pygments_lexer": "ipython3",
   "version": "3.11.7"
  }
 },
 "nbformat": 4,
 "nbformat_minor": 5
}
